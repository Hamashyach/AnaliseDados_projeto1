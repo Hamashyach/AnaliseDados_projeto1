{
  "nbformat": 4,
  "nbformat_minor": 0,
  "metadata": {
    "colab": {
      "provenance": [],
      "mount_file_id": "https://github.com/Hamashyach/AnaliseDados_projeto1/blob/main/ProjetoMusicas.ipynb",
      "authorship_tag": "ABX9TyMMwd0J24bey2zXumjMfgk+",
      "include_colab_link": true
    },
    "kernelspec": {
      "name": "python3",
      "display_name": "Python 3"
    },
    "language_info": {
      "name": "python"
    }
  },
  "cells": [
    {
      "cell_type": "markdown",
      "metadata": {
        "id": "view-in-github",
        "colab_type": "text"
      },
      "source": [
        "<a href=\"https://colab.research.google.com/github/Hamashyach/AnaliseDados_projeto1/blob/main/ProjetoMusicas.ipynb\" target=\"_parent\"><img src=\"https://colab.research.google.com/assets/colab-badge.svg\" alt=\"Open In Colab\"/></a>"
      ]
    },
    {
      "cell_type": "markdown",
      "source": [
        "## **Músicas mais tocadas em 2024**\n",
        "\n",
        "A base de dados Top Music 2024 é um conjunto de dados contemporâneo que reúne informações sobre as músicas mais populares de 2024 em diversas plataformas digitais, como Spotify, YouTube, TikTok, Apple Music, entre outras. Ela contém registros detalhados de métricas de engajamento, como número de execuções, visualizações, curtidas, presença em playlists e índices de popularidade. A base possui 300 observações e 30 variáveis (incluindo características da música, dados de performance nas plataformas e uma variável indicativa de conteúdo explícito). Seu objetivo é permitir a análise de padrões que influenciam a popularidade musical e o impacto das redes sociais na difusão das faixas."
      ],
      "metadata": {
        "id": "rQbDy8H2EzaG"
      }
    },
    {
      "cell_type": "code",
      "source": [
        "#pacotes necessários\n",
        "import pandas as pd\n",
        "import numpy as np\n",
        "import matplotlib.pyplot as plt\n",
        "import seaborn as sns"
      ],
      "metadata": {
        "id": "mJEEEJhrNddK"
      },
      "execution_count": null,
      "outputs": []
    },
    {
      "cell_type": "code",
      "source": [
        "sns.set_theme(style=\"whitegrid\", palette='rocket')\n",
        "#sns.color_palette(\"flare\", as_cmap=True)"
      ],
      "metadata": {
        "id": "L0G_DDyXNuRL"
      },
      "execution_count": null,
      "outputs": []
    },
    {
      "cell_type": "code",
      "source": [
        "#importar o arquivo dos dados\n",
        "df = pd.read_csv('/content/drive/MyDrive/Colab Notebooks/05_músicas_mais_tocadas.csv', encoding='latin1')"
      ],
      "metadata": {
        "id": "XsenvjiYNxlT"
      },
      "execution_count": 71,
      "outputs": []
    }
  ]
}