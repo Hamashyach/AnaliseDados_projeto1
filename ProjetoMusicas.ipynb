{
  "nbformat": 4,
  "nbformat_minor": 0,
  "metadata": {
    "colab": {
      "provenance": [],
      "authorship_tag": "ABX9TyNgxMcOCmPZ/Lnl+4puqNYn",
      "include_colab_link": true
    },
    "kernelspec": {
      "name": "python3",
      "display_name": "Python 3"
    },
    "language_info": {
      "name": "python"
    }
  },
  "cells": [
    {
      "cell_type": "markdown",
      "metadata": {
        "id": "view-in-github",
        "colab_type": "text"
      },
      "source": [
        "<a href=\"https://colab.research.google.com/github/Hamashyach/AnaliseDados_projeto1/blob/main/ProjetoMusicas.ipynb\" target=\"_parent\"><img src=\"https://colab.research.google.com/assets/colab-badge.svg\" alt=\"Open In Colab\"/></a>"
      ]
    },
    {
      "cell_type": "code",
      "execution_count": null,
      "metadata": {
        "id": "AvLQzPRw-1ej"
      },
      "outputs": [],
      "source": []
    },
    {
      "cell_type": "markdown",
      "source": [
        "Músicas Mais Tocadas\n",
        "\n",
        "Descrição geral:\n",
        "Base com dados sobre as músicas mais populares em 2024, abrangendo plataformas como Spotify, YouTube, TikTok, entre outras.\n"
      ],
      "metadata": {
        "id": "rQbDy8H2EzaG"
      }
    },
    {
      "cell_type": "code",
      "source": [],
      "metadata": {
        "id": "vFBsW3teE_HG"
      },
      "execution_count": null,
      "outputs": []
    }
  ]
}